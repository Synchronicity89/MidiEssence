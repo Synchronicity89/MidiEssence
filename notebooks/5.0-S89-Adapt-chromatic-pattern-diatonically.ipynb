{
 "cells": [
  {
   "cell_type": "markdown",
   "metadata": {},
   "source": [
    "Patterns can be reused in a diatonic way.   Simplest example is a 4 note pattern that uses notes from a scale in one direction.\n",
    "That same pattern can be reused in a diatonic way using any contiguous set of notes from the scale. This notebook is to explore different ways to adapt chromatic patterns for diatonic use."
   ]
  },
  {
   "cell_type": "code",
   "execution_count": 26,
   "metadata": {},
   "outputs": [
    {
     "name": "stdout",
     "output_type": "stream",
     "text": [
      "[0, 2, 4, 5, 7, 9, 11, 12, 14, 16, 17, 19, 21, 23, 24, 26, 28, 29, 31, 33, 35]\n"
     ]
    }
   ],
   "source": [
    "import itertools\n",
    "\n",
    "chromatic_scale_diffs = [2, 2, 1, 2, 2, 2, 1, 2, 2, 1, 2, 2, 2, 1, 2, 2, 1, 2, 2, 2]\n",
    "actual_pitch_diff_data_needing_a_diatonic_match = [7, 5, -2, 2, -3]\n",
    "scale = list(itertools.accumulate([0] + chromatic_scale_diffs))\n",
    "print(scale)"
   ]
  },
  {
   "cell_type": "code",
   "execution_count": 34,
   "metadata": {},
   "outputs": [
    {
     "name": "stdout",
     "output_type": "stream",
     "text": [
      "comp_pitch pitches [7, 12, 10, 12, 9]\n",
      "comp_pitch pitches unique [7, 12, 10, 9]\n",
      "comp_pitch pitches unique sorted [7, 9, 10, 12]\n",
      "[7, 9, 10, 12]\n"
     ]
    }
   ],
   "source": [
    "comp_pitch = []\n",
    "p = actual_pitch_diff_data_needing_a_diatonic_match\n",
    "start = p[0]\n",
    "comp_pitch = list(itertools.accumulate([start] + p[1:]))\n",
    "print('comp_pitch pitches', comp_pitch)\n",
    "# throw out duplicates from comp_pitch\n",
    "comp_pitch = list(dict.fromkeys(comp_pitch))\n",
    "print('comp_pitch pitches unique', comp_pitch)\n",
    "# sort it ascending\n",
    "comp_pitch.sort()\n",
    "print('comp_pitch pitches unique sorted', comp_pitch)\n",
    "print(comp_pitch)\n",
    "\n",
    "\n"
   ]
  },
  {
   "cell_type": "code",
   "execution_count": 48,
   "metadata": {},
   "outputs": [
    {
     "name": "stdout",
     "output_type": "stream",
     "text": [
      "21\n",
      "4\n",
      "found it\n",
      "[9, 11, 12, 14]\n",
      "found it\n",
      "[14, 16, 17, 19]\n",
      "found it\n",
      "[21, 23, 24, 26]\n",
      "x =  17\n",
      "results =  [[9, 11, 12, 14], [14, 16, 17, 19]]\n",
      "indices =  [5, 8, 12]\n",
      "[0, 2, 4, 5, 7, 9, 11, 12, 14, 16, 17, 19, 21, 23, 24, 26, 28, 29, 31, 33, 35]\n",
      "[0, 1, 2, 3, 4, 5, 6, 7, 8, 9, 10, 11, 12, 13, 14, 15, 16]\n"
     ]
    }
   ],
   "source": [
    "# get the length of scale, and subtract the length of comp_pitch and use the result as a range to increment x through\n",
    "# then create a version of comp_pitch where each value of comp_pitch has x added to it\n",
    "# then see if all of the values in the new comp_pitch are in the scale\n",
    "len_scale = len(scale)\n",
    "len_comp_pitch = len(comp_pitch)\n",
    "print(len_scale)\n",
    "print(len_comp_pitch)\n",
    "x = 0\n",
    "indices = []\n",
    "new_comp_pitches = []\n",
    "while x < len_scale - len_comp_pitch:\n",
    "    new_comp_pitch = [i + x for i in comp_pitch]\n",
    "    if all(i in scale for i in new_comp_pitch):\n",
    "        print(\"found it\")\n",
    "        print(new_comp_pitch)\n",
    "        new_comp_pitches.append(new_comp_pitch)\n",
    "        indices.append(scale.index(new_comp_pitch[0]))\n",
    "    x += 1\n",
    "print('x = ', x)\n",
    "# Go through all the new_comp_pitches lists, remove duplicates\n",
    "sums = []\n",
    "results = []\n",
    "for l in new_comp_pitches:\n",
    "    if sum([l2 % 12 for l2 in l] ) not in sums:\n",
    "        results.append(l)\n",
    "        sums.append(sum([l2 % 12 for l2 in l]))\n",
    "results.sort(key=lambda x: sum(x))\n",
    "\n",
    "print('results = ', results)\n",
    "print('indices = ', indices)\n",
    "print(scale)\n",
    "print(list(range(len(scale) - len_comp_pitch)))\n"
   ]
  },
  {
   "cell_type": "code",
   "execution_count": null,
   "metadata": {},
   "outputs": [],
   "source": [
    "\n",
    "    "
   ]
  }
 ],
 "metadata": {
  "kernelspec": {
   "display_name": "MidiEssenceEnv",
   "language": "python",
   "name": "python3"
  },
  "language_info": {
   "codemirror_mode": {
    "name": "ipython",
    "version": 3
   },
   "file_extension": ".py",
   "mimetype": "text/x-python",
   "name": "python",
   "nbconvert_exporter": "python",
   "pygments_lexer": "ipython3",
   "version": "3.10.13"
  }
 },
 "nbformat": 4,
 "nbformat_minor": 2
}
